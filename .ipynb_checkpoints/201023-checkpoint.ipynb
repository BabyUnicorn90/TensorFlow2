{
 "cells": [
  {
   "cell_type": "markdown",
   "metadata": {},
   "source": [
    "# **CHAPTER 3**"
   ]
  },
  {
   "cell_type": "markdown",
   "metadata": {},
   "source": [
    "## 1. 37~39 난수생성: 크기지정했을때 난수생성하기"
   ]
  },
  {
   "cell_type": "code",
   "execution_count": 1,
   "metadata": {},
   "outputs": [
    {
     "name": "stdout",
     "output_type": "stream",
     "text": [
      "tf.Tensor([0.68867755], shape=(1,), dtype=float32)\n"
     ]
    }
   ],
   "source": [
    "import tensorflow as tf\n",
    "\n",
    "rand = tf.random.uniform([1],0,1)\n",
    "print(rand)\n",
    "\n",
    "# tf.random.uniform( [결과값의 크기 *튜플아님!], (최솟값), (최댓값) ): \n",
    "# 균일분포(uniform distribution, 최솟값과 최댓값 사이의 모든 수가 나올 확률이 동일한 분포)의 난수 \n",
    "\n",
    "# tf.random.normal( [결과값의 크기], (평균), (표준편차))"
   ]
  },
  {
   "cell_type": "markdown",
   "metadata": {},
   "source": [
    "## 2. 42 뉴런, 활성화함수: \n",
    "- 뉴런그림: 출력, 활성화함수 \n",
    "        - 활성화함수 정의\n",
    "        - 그림에서 활성화함수 위치 확인\n",
    "\n",
    "- sigmoid, relu: 해당하는 그래프 찾기 \n",
    "\n",
    "- sigmoid 파이썬으로 구현한 식 확인"
   ]
  },
  {
   "cell_type": "markdown",
   "metadata": {},
   "source": [
    "- 뉴런의 구조: 입력, 가중치, 활성화함수, 출력\n",
    "\n",
    "- 가장 간단한 형태의 뉴런은 입력에 가중치를 곱한 뒤 활성화 함수를 취하면 출력을 얻을 수 있음. \n",
    "\n",
    "\n",
    "- 가중치: 뉴런에서 학습할 때 변하는 것. 처음에는 초기화를 통해 랜덤한 값을 넣고 학습과정에서 점차 일정한 값으로 수렴.\n",
    "\n",
    "- 활성화함수: 뉴런의 출력값을 정하는 함수. \n",
    "    \n",
    "    - 활성화함수 종류: sigmoid, ReLU\n",
    "    \n",
    "    - sigmoid: 출력값을 0~1로 제한.\n",
    "    \n",
    "    - ReLU: Recified Linear Unit. 정류된 선형함수. 은닉층을 다수 사용하는 딥러닝에서 주로 쓰임(양수를 그대로 반환하기 떄문에 왜곡 ↓). \n",
    "    \n",
    "    - (딥러닝에서의 선형함수: 입력 == 출력, y = x --> \"정류된\" : 음수값을 0 으로 만듦) \n",
    "    \n",
    "    "
   ]
  },
  {
   "cell_type": "code",
   "execution_count": 2,
   "metadata": {},
   "outputs": [],
   "source": [
    "# sigmoid\n",
    "import math\n",
    "def sigmoid(x):\n",
    "    return 1 / (1 + math.exp(-x))"
   ]
  },
  {
   "cell_type": "code",
   "execution_count": 4,
   "metadata": {},
   "outputs": [
    {
     "name": "stdout",
     "output_type": "stream",
     "text": [
      "0.17973809656555192\n"
     ]
    }
   ],
   "source": [
    "# 참고: 뉴런의 입력과 출력 정의하기 -입력이 1일때 기대출력이 0이 되는 뉴런 만들기\n",
    "x = 1\n",
    "y = 0\n",
    "\n",
    "w = tf.random.normal([1], 0, 1)\n",
    "\n",
    "output = sigmoid(x * w)\n",
    "\n",
    "print(output)"
   ]
  },
  {
   "cell_type": "markdown",
   "metadata": {},
   "source": [
    "## 3. 46~47 편향: 그림, 의미(T/F)"
   ]
  },
  {
   "cell_type": "markdown",
   "metadata": {},
   "source": [
    "입력이 기대출력에 가까우려면 가중치 조정이 필요한데, \n",
    "가중치를 조정하는 식을 만들었지만 특정한 경우 가중치가 더 이상 변하지 않는 것을 대비하기 위해 \n",
    "(예: 곱하기 연산이 있는 가중치조정식에 0이 곱해질 때)\n",
    "\"편향(bias)\"을 뉴런에 넣어준다. \n",
    "\n",
    "- 편향: 한쪽으로 치우친 고정된 값(보편적으로 1)을 입력으로 받게 하기.\n",
    "\n",
    "- 일종의 입력에 적용하는 '가중치'이기 때문에 tf.random.normal([1], 0, 1) 등의 방법으로 정의. "
   ]
  },
  {
   "cell_type": "code",
   "execution_count": 8,
   "metadata": {},
   "outputs": [
    {
     "name": "stdout",
     "output_type": "stream",
     "text": [
      "99 0.11602063708454702 0.883979362915453\n",
      "199 0.05598689203723883 0.9440131079627612\n",
      "299 0.03645218288517904 0.963547817114821\n",
      "399 0.026928248865009885 0.9730717511349901\n",
      "499 0.021318275071528503 0.9786817249284715\n",
      "599 0.01762924557512746 0.9823707544248725\n",
      "699 0.015021964001233457 0.9849780359987665\n",
      "799 0.013082858870020697 0.9869171411299793\n",
      "899 0.01158495528442427 0.9884150447155757\n",
      "999 0.010393452848388551 0.9896065471516114\n"
     ]
    }
   ],
   "source": [
    "# 참고: 입력이 0일때 기대출력이 1이 되는 뉴런의 학습에 편향 더해주기\n",
    "x = 0\n",
    "y = 1\n",
    "\n",
    "w = tf.random.normal([1], 0, 1)\n",
    "b = tf.random.normal([1], 0, 1)\n",
    "\n",
    "for i in range(1000):\n",
    "    output = sigmoid(x*w + 1*b)\n",
    "    error = y - output\n",
    "    w = w + x*0.1*error    # 가중치 및 편향 업데이트: 학습률: 0.1\n",
    "    b = b + 1*0.1*error\n",
    "    \n",
    "    if i % 100 == 99:\n",
    "        print(i, error, output)"
   ]
  },
  {
   "cell_type": "code",
   "execution_count": 9,
   "metadata": {},
   "outputs": [],
   "source": [
    "# 결과분석: \n",
    "# error: 0에 가까워짐. \n",
    "# output: 1에 가까워짐"
   ]
  },
  {
   "cell_type": "markdown",
   "metadata": {},
   "source": [
    "# 4. 61 XOR연산: \n",
    "\n",
    "- 모델생성시 활성화함수 \n",
    "   ---> \"sigmoid\"\n",
    "\n",
    "- input_shape등을 가려놓고 식별자값만으로 맞는 shape찾기   \n",
    "   ---> 2개의 입력을 받는 1차원 배열이므로 1차원의 원소개수가 2인 (2, )을 input_shape로 한다. \n",
    "   \n",
    "- mse\n",
    "  ---> 평균제곱오차 (Mean Squared Error). 오차(기대출력 output과 실제출력 y의 차)를 제곱한 값을 평균\n",
    "\n",
    "- model.summary()에서 Param의 개수 계산: \n",
    "   ---> 각 레이어가 기본적으로 편향을 포함하고 있기 때문에 \n",
    "        Dense1레이어의 경우) 입력값 3개 (입력값2개 + 편향입력값) * 뉴런 2개 --> 총 파라미터 6개\n",
    "        Dense2레이어의 경우) 입력값 3개 (Dense1레이어의 뉴런 2개 + 편향입력값) * 뉴런 1개 --> 총 파라미터 3개"
   ]
  },
  {
   "cell_type": "code",
   "execution_count": 13,
   "metadata": {},
   "outputs": [
    {
     "name": "stdout",
     "output_type": "stream",
     "text": [
      "Model: \"sequential\"\n",
      "_________________________________________________________________\n",
      "Layer (type)                 Output Shape              Param #   \n",
      "=================================================================\n",
      "dense_1 (Dense)              (None, 2)                 6         \n",
      "_________________________________________________________________\n",
      "dense_2 (Dense)              (None, 1)                 3         \n",
      "=================================================================\n",
      "Total params: 9\n",
      "Trainable params: 9\n",
      "Non-trainable params: 0\n",
      "_________________________________________________________________\n"
     ]
    }
   ],
   "source": [
    "# tf.keras를 이용한 XOR 녜트워크 계산하기\n",
    "import numpy as np\n",
    "\n",
    "x = np.array([[1, 1], [1, 0], [0, 1], [0, 0]])\n",
    "y = np.array([[0], [1], [1], [0]])\n",
    "\n",
    "model = tf.keras.Sequential([\n",
    "    tf.keras.layers.Dense(units = 2, activation = 'sigmoid', input_shape = (2,)),\n",
    "    tf.keras.layers.Dense(units = 1, activation = 'sigmoid')\n",
    "])\n",
    "\n",
    "model.compile(optimizer = tf.keras.optimizers.SGD(lr = 0.1), loss = 'mse')\n",
    "\n",
    "model.summary()"
   ]
  },
  {
   "cell_type": "markdown",
   "metadata": {},
   "source": [
    "# **CHAPTER 4**"
   ]
  },
  {
   "cell_type": "markdown",
   "metadata": {},
   "source": [
    "## 5. 73~77 선형회귀: \n",
    "\n",
    "- 정의, 설명(T/F) + 공유파일 \n",
    "\n",
    "    - 선형회귀(Linear Regression): 데이터의 경향성을 하나의 직선으로 예측하는 것. \n",
    "    - cf. 회귀: \"연속된 실숫값(ex. 가격, 확률)\"을 정확히 예측하는 것."
   ]
  },
  {
   "cell_type": "markdown",
   "metadata": {},
   "source": [
    "## 6. 78 회귀선 그리기: \n",
    "\n",
    "- 최소제곱법(Least Square Method): \n",
    "    - 잔차(residual. '데이터의 경향성을 가장 잘 설명하는 하나의 직선'과 '각 데이터'의 차이.)의 제곱을 최소화하는 알고리즘.\n",
    "    - 직선의 기울기와 y절편을 구할 수 있다. "
   ]
  },
  {
   "cell_type": "code",
   "execution_count": 15,
   "metadata": {},
   "outputs": [
    {
     "name": "stdout",
     "output_type": "stream",
     "text": [
      "기울기 a: -0.355834147915461 y절편 b: 15.669317743971302\n"
     ]
    },
    {
     "data": {
      "image/png": "[encoded data removed]",
      "text/plain": [
       "<Figure size 432x288 with 1 Axes>"
      ]
     },
     "metadata": {
      "needs_background": "light"
     },
     "output_type": "display_data"
    }
   ],
   "source": [
    "import matplotlib.pyplot as plt\n",
    "\n",
    "# 최소제곱법으로 회귀선 구하기\n",
    "X = [0.3, -0.78, 1.26, 0.03, 1.11, 0.24, -0.24, -0.47, -0.77, -0.37, -0.85, -0.41, -0.27, 0.02, -0.76, 2.66]\n",
    "Y = [12.27, 14.44, 11.87, 18.75, 17.52, 16.37, 19.78, 19.51, 12.65, 14.74, 10.72, 21.94, 12.83, 15.51, 17.14, 14.42]\n",
    "\n",
    "# X와 Y의 평균 구하기:\n",
    "x_bar = sum(X) / len(X)\n",
    "y_bar = sum(Y) / len(Y)\n",
    "\n",
    "# 최소제곱법으로 기울기와 절편 구하기:\n",
    "a = sum([(y - y_bar) * (x - x_bar) for y, x in list(zip(Y, X))])\n",
    "# 두 개 이상의 리스트를 하나로 묶기: list(zip(list_1, list_2)) \n",
    "#   --각 리스트 요소의 수 같아야 함. 같은 인덱스끼리 하나의 튜플로 묶어서 리스트로 반환\n",
    "a /= sum([(x - x_bar) ** 2 for x in X])\n",
    "b = y_bar - a*x_bar\n",
    "print(\"기울기 a:\", a, \"y절편 b:\", b)\n",
    "\n",
    "# 그래프를 그리기 위해 회귀선의 x, y 데이터 구하기\n",
    "# X변화량에 따른 Y예측값!\n",
    "line_x = np.arange(min(X), max(X), 0.01)\n",
    "# 파이썬range: 정수로만 구성\n",
    "# 넘파이arange: numpy.arange(start, stop, step, dtype=None)\n",
    "# 반열린구간 [start, stop)에서 step의 크기만큼 일정하게 떨어져 있는 숫자들을 array형태로 반환\n",
    "# cf. 구간기호: [] - 포함, () - 미포함\n",
    "# 매개변수: stop -반드시 필요 / start, step -전달되지 않았다면 기본값으로 설정(start: 0, step: 1)\n",
    "# 매개변수로 사용되는 값 ≠ 인덱스번호 --> 실제값을 의미한다! \n",
    "line_y = a*line_x + b\n",
    "\n",
    "# 회귀선 그리기\n",
    "plt.plot(line_x, line_y, 'r-')\n",
    "\n",
    "plt.plot(X, Y, 'bo')\n",
    "plt.xlabel('Population Growth Rate(%)')\n",
    "plt.ylabel('Elderly Population Rate(%)')\n",
    "plt.show()"
   ]
  },
  {
   "cell_type": "markdown",
   "metadata": {},
   "source": [
    "## 7. 81 잔차: T/F\n",
    "\n",
    "- 잔차: \n",
    "    - residual. 데이터의 경향성을 가장 잘 나타내는 직선과 각 데이터의 차이 \n",
    "\n",
    "- 최적화함수:\n",
    "    - optimizer. 잔차를 최소화해주는 도구.\n",
    "    - ADAM optimizer\n",
    "    - SGD optimizer: \n",
    "        - SGD(경사하강법, Stochastic Gradient Descent) \n",
    "        - 가중치(w)에 (입력 * 학습률 * 에러)를 더해주는 것 \n",
    "        - 손실곡선의 기울기. 손실곡선을 미분한 다음 그 값을 이용해서 가중치가 손실이 가장 낮아지는 지점에 도달하도록 반복 계산\n",
    "        - 가중치를 업데이트할 때 미분을 통해 기울기를 구한 다음 기울기가 낮은 쪽으로 업데이트하겠다! \n",
    "        - 'stochastic': 전체를 한번에 계산하지 않고 확률적으로 일부 샘플을 구해서 조금씩 나눠 계산하겠다!\n",
    "\n",
    "- 그림\n"
   ]
  },
  {
   "cell_type": "markdown",
   "metadata": {},
   "source": [
    "## 8. 83 다항회귀 텐서플로이용\n",
    "\n",
    "- 예제코드 속 굵은글씨 처리된 y_pred (단답식 可 or 선택)"
   ]
  },
  {
   "cell_type": "code",
   "execution_count": 17,
   "metadata": {},
   "outputs": [
    {
     "name": "stdout",
     "output_type": "stream",
     "text": [
      "99 a: 3.8923352 b: -5.6542377 c: <bound method BaseResourceVariable.numpy of <tf.Variable 'Variable:0' shape=() dtype=float32, numpy=6.7722282>> loss: 64.85866\n",
      "199 a: 2.6166933 b: -4.388018 c: <bound method BaseResourceVariable.numpy of <tf.Variable 'Variable:0' shape=() dtype=float32, numpy=10.607344>> loss: 29.271107\n",
      "299 a: 1.1316867 b: -2.126897 c: <bound method BaseResourceVariable.numpy of <tf.Variable 'Variable:0' shape=() dtype=float32, numpy=13.189179>> loss: 15.032329\n",
      "399 a: 0.2204851 b: -0.72821707 c: <bound method BaseResourceVariable.numpy of <tf.Variable 'Variable:0' shape=() dtype=float32, numpy=14.750825>> loss: 10.65254\n",
      "499 a: -0.24726267 b: -0.010584844 c: <bound method BaseResourceVariable.numpy of <tf.Variable 'Variable:0' shape=() dtype=float32, numpy=15.553808>> loss: 9.651671\n",
      "599 a: -0.45277092 b: 0.30468607 c: <bound method BaseResourceVariable.numpy of <tf.Variable 'Variable:0' shape=() dtype=float32, numpy=15.906707>> loss: 9.480407\n",
      "699 a: -0.53034467 b: 0.42369017 c: <bound method BaseResourceVariable.numpy of <tf.Variable 'Variable:0' shape=() dtype=float32, numpy=16.039925>> loss: 9.458394\n",
      "799 a: -0.55553156 b: 0.4623302 c: <bound method BaseResourceVariable.numpy of <tf.Variable 'Variable:0' shape=() dtype=float32, numpy=16.083174>> loss: 9.456271\n",
      "899 a: -0.562555 b: 0.47310576 c: <bound method BaseResourceVariable.numpy of <tf.Variable 'Variable:0' shape=() dtype=float32, numpy=16.095234>> loss: 9.456119\n",
      "999 a: -0.5642284 b: 0.4756717 c: <bound method BaseResourceVariable.numpy of <tf.Variable 'Variable:0' shape=() dtype=float32, numpy=16.09811>> loss: 9.456111\n"
     ]
    },
    {
     "data": {
      "image/png": "[encoded data removed]",
      "text/plain": [
       "<Figure size 432x288 with 1 Axes>"
      ]
     },
     "metadata": {
      "needs_background": "light"
     },
     "output_type": "display_data"
    }
   ],
   "source": [
    "#4.5 텐서플로를 이용해 2차함수 회귀선 구하기 \n",
    "import random\n",
    "\n",
    "X = [0.3, -0.78, 1.26, 0.03, 1.11, 0.24, -0.24, -0.47, -0.77, -0.37, -0.85, -0.41, -0.27, 0.02, -0.76, 2.66]\n",
    "Y = [12.27, 14.44, 11.87, 18.75, 17.52, 16.37, 19.78, 19.51, 12.65, 14.74, 10.72, 21.94, 12.83, 15.51, 17.14, 14.42]\n",
    "\n",
    "#a, b, c를 랜덤값으로 초기화하기 \n",
    "a = tf.Variable(random.random())\n",
    "b = tf.Variable(random.random())\n",
    "c = tf.Variable(random.random())\n",
    "\n",
    "#잔차제곱의 평균을 반환하는 함수 만들기\n",
    "def compute_loss():\n",
    "    y_pred = a * X*X + b * X + c   # <<<<<<<<<<<<<<<<<<<<<<<<<<<확인!\n",
    "    loss = tf.reduce_mean((Y - y_pred) ** 2)\n",
    "    return loss \n",
    "\n",
    "#최적화하기\n",
    "optimizer = tf.optimizers.Adam(lr = 0.07)\n",
    "\n",
    "for i in range (1000): \n",
    "    optimizer.minimize(compute_loss, var_list=[a, b, c])   # <<<<<<<<<<<<<<<<<<<<<<<<<<<확인!\n",
    "    \n",
    "    if i % 100 == 99:\n",
    "        print(i, 'a:', a.numpy(), 'b:', b.numpy(), 'c:', c.numpy, 'loss:', compute_loss().numpy())  # <<<<<<<<<<<<<<<<<<<<<<<<<<<확인!\n",
    "\n",
    "#회귀선의 x, y구하기\n",
    "line_x = np.arange(min(X), max(X), 0.01)\n",
    "line_y = a * line_x*line_x + b * line_x + c  # <<<<<<<<<<<<<<<<<<<<<<<<<<<확인!\n",
    "\n",
    "#그래프 그리기\n",
    "plt.plot(line_x, line_y, 'r-')\n",
    "plt.plot(X, Y, 'bo')\n",
    "plt.xlabel(\"Population Growth Rate(%)\")\n",
    "plt.ylabel(\"Elderly Growth Rate(%)\")\n",
    "plt.show()"
   ]
  },
  {
   "cell_type": "markdown",
   "metadata": {},
   "source": [
    "## 9. 88 sigmoid vs tanh:\n",
    "\n",
    "- 식\n",
    "\n",
    "- 그래프\n",
    "\n",
    "- 설명(T/F)\n",
    "    - sigmoid: 0~1\n",
    "    - tanh: -1~1, 단위쌍곡선 공식."
   ]
  },
  {
   "cell_type": "markdown",
   "metadata": {},
   "source": [
    "## 10. 87+89+90 회귀선 그리기"
   ]
  },
  {
   "cell_type": "code",
   "execution_count": 18,
   "metadata": {},
   "outputs": [
    {
     "name": "stdout",
     "output_type": "stream",
     "text": [
      "Train on 16 samples\n",
      "Epoch 1/10\n",
      "16/16 [==============================] - 0s 17ms/sample - loss: 255.9689\n",
      "Epoch 2/10\n",
      "16/16 [==============================] - 0s 374us/sample - loss: 122.5204\n",
      "Epoch 3/10\n",
      "16/16 [==============================] - 0s 372us/sample - loss: 10.8880\n",
      "Epoch 4/10\n",
      "16/16 [==============================] - 0s 373us/sample - loss: 9.5970\n",
      "Epoch 5/10\n",
      "16/16 [==============================] - 0s 374us/sample - loss: 9.5535\n",
      "Epoch 6/10\n",
      "16/16 [==============================] - 0s 374us/sample - loss: 9.5314\n",
      "Epoch 7/10\n",
      "16/16 [==============================] - 0s 374us/sample - loss: 9.5110\n",
      "Epoch 8/10\n",
      "16/16 [==============================] - 0s 310us/sample - loss: 9.4916\n",
      "Epoch 9/10\n",
      "16/16 [==============================] - 0s 436us/sample - loss: 9.4729\n",
      "Epoch 10/10\n",
      "16/16 [==============================] - 0s 312us/sample - loss: 9.4546\n"
     ]
    },
    {
     "data": {
      "image/png": "[encoded data removed]",
      "text/plain": [
       "<Figure size 432x288 with 1 Axes>"
      ]
     },
     "metadata": {
      "needs_background": "light"
     },
     "output_type": "display_data"
    }
   ],
   "source": [
    "X = [0.3, -0.78, 1.26, 0.03, 1.11, 0.24, -0.24, -0.47, -0.77, -0.37, -0.85, -0.41, -0.27, 0.02, -0.76, 2.66]\n",
    "Y = [12.27, 14.44, 11.87, 18.75, 17.52, 16.37, 19.78, 19.51, 12.65, 14.74, 10.72, 21.94, 12.83, 15.51, 17.14, 14.42]\n",
    "\n",
    "model = tf.keras.Sequential([\n",
    "        tf.keras.layers.Dense(units=6, activation='tanh', input_shape=(1,)),  \n",
    "        tf.keras.layers.Dense(units=1)  \n",
    "])\n",
    "\n",
    "model.compile(optimizer = tf.optimizers.SGD(lr = 0.1,), loss='mse')   \n",
    "\n",
    "#model.summary()\n",
    "\n",
    "model.fit(X, Y, epochs=10)\n",
    "\n",
    "model.predict(X)\n",
    "\n",
    "line_x = np.arange(min(X), max(X), 0.01)\n",
    "line_y = model.predict(line_x)\n",
    "\n",
    "plt.plot(line_x, line_y, 'r-')\n",
    "plt.plot(X, Y, 'bo')\n",
    "plt.xlabel(\"Population Growth Rate(%)\")\n",
    "plt.ylabel(\"Elderly Growth Rate(%)\")\n",
    "plt.show()"
   ]
  },
  {
   "cell_type": "markdown",
   "metadata": {},
   "source": [
    "## 11. 94 표준편차, 정규분포: \n",
    "\n",
    "- 각 데이터의 단위가 다른 것을 맞춰주기 위해서 정규화(Standardization)가 필요하다. \n",
    "\n",
    "- 정규화 식: 각 데이터에서 평균값을 뺀 다음 표준편차로 나누기\n",
    "\n",
    "- 평균과 표준편차는 훈련데이터의 평균과 표준편차 사용. "
   ]
  },
  {
   "cell_type": "code",
   "execution_count": 25,
   "metadata": {},
   "outputs": [
    {
     "name": "stdout",
     "output_type": "stream",
     "text": [
      "Model: \"sequential_8\"\n",
      "_________________________________________________________________\n",
      "Layer (type)                 Output Shape              Param #   \n",
      "=================================================================\n",
      "dense_29 (Dense)             (None, 52)                728       \n",
      "_________________________________________________________________\n",
      "dense_30 (Dense)             (None, 39)                2067      \n",
      "_________________________________________________________________\n",
      "dense_31 (Dense)             (None, 26)                1040      \n",
      "_________________________________________________________________\n",
      "dense_32 (Dense)             (None, 1)                 27        \n",
      "=================================================================\n",
      "Total params: 3,862\n",
      "Trainable params: 3,862\n",
      "Non-trainable params: 0\n",
      "_________________________________________________________________\n",
      "Train on 303 samples, validate on 101 samples\n",
      "Epoch 1/25\n",
      "303/303 [==============================] - 0s 2ms/sample - loss: 4.4576 - val_loss: 1.3758\n",
      "Epoch 2/25\n",
      "303/303 [==============================] - 0s 76us/sample - loss: 0.4880 - val_loss: 0.2260\n",
      "Epoch 3/25\n",
      "303/303 [==============================] - 0s 72us/sample - loss: 0.1947 - val_loss: 0.2480\n",
      "Epoch 4/25\n",
      "303/303 [==============================] - 0s 69us/sample - loss: 0.1553 - val_loss: 0.2828\n",
      "Epoch 5/25\n",
      "303/303 [==============================] - 0s 72us/sample - loss: 0.2237 - val_loss: 0.2595\n"
     ]
    },
    {
     "data": {
      "image/png": "[encoded data removed]",
      "text/plain": [
       "<Figure size 432x288 with 1 Axes>"
      ]
     },
     "metadata": {
      "needs_background": "light"
     },
     "output_type": "display_data"
    },
    {
     "name": "stdout",
     "output_type": "stream",
     "text": [
      "102/102 [==============================] - 0s 49us/sample - loss: 0.2895\n"
     ]
    },
    {
     "data": {
      "image/png": "[encoded data removed]",
      "text/plain": [
       "<Figure size 360x360 with 1 Axes>"
      ]
     },
     "metadata": {
      "needs_background": "light"
     },
     "output_type": "display_data"
    }
   ],
   "source": [
    "from tensorflow.keras.datasets import boston_housing\n",
    "\n",
    "(train_X, train_Y), (test_X, test_Y) = boston_housing.load_data()\n",
    "\n",
    "#\n",
    "x_mean = train_X.mean(axis = 0)   # <<<<<<<<<<<<<<<<<<<<<<<<<<< 정규화식 확인!\n",
    "x_std = train_X.std(axis = 0)\n",
    "\n",
    "train_X -= x_mean\n",
    "train_X /= x_std\n",
    "test_X -= x_mean\n",
    "test_X /= x_std\n",
    "\n",
    "y_mean = train_Y.mean(axis = 0)\n",
    "y_std = train_Y.std(axis = 0)\n",
    "\n",
    "train_Y -= y_mean\n",
    "train_Y /= y_std\n",
    "test_Y -= y_mean\n",
    "test_Y /= y_std\n",
    "#\n",
    "\n",
    "model = tf.keras.Sequential([\n",
    "    tf.keras.layers.Dense(units = 52, activation = 'relu', input_shape = (13,)),\n",
    "    tf.keras.layers.Dense(units = 39, activation = 'relu'),\n",
    "    tf.keras.layers.Dense(units = 26, activation = 'relu'),\n",
    "    tf.keras.layers.Dense(units = 1)\n",
    "])\n",
    "\n",
    "model.compile(optimizer = tf.keras.optimizers.Adam(lr = 0.07), loss = 'mse')\n",
    "\n",
    "model.summary()\n",
    "\n",
    "history = model.fit(train_X, \n",
    "                    train_Y, \n",
    "                    epochs=25, \n",
    "                    batch_size=32, \n",
    "                    validation_split=0.25,       # <<<<<<<<<<<<<<<<<<<<<<<<<<<확인!\n",
    "                    callbacks=[tf.keras.callbacks.EarlyStopping(             # <<<<<<<<<<<<<<<<<<<<<<<<<<<확인!\n",
    "                        patience=3,          #몇번의 에포크를 기준으로 삼을 것인가?!\n",
    "                        monitor='val_loss'   #어떤 값을 지켜볼 것인가!\n",
    "                        )]                   # --> 3회의 에포크를 실행하는동안 최고기록을 갱신하지 못한다면 학습 멈춤\n",
    "                   )\n",
    "\n",
    "plt.plot(history.history['loss'], 'b-', label='loss')\n",
    "plt.plot(history.history['val_loss'], 'r--', label='val_loss')\n",
    "plt.xlabel(\"Epochs\")\n",
    "plt.legend()\n",
    "plt.show()\n",
    "\n",
    "model.evaluate(test_X, test_Y)    # <<<<<<<<<<<<<<<<<<<<<<<<<<<확인!\n",
    "\n",
    "pred_Y = model.predict(test_X)\n",
    "\n",
    "plt.figure(figsize = (5, 5))\n",
    "plt.plot(test_Y, pred_Y, 'b.')\n",
    "plt.axis([min(test_Y), max(test_Y), min(test_Y), max(test_Y)])\n",
    "\n",
    "plt.plot([min(test_Y), max(test_Y)], [min(test_Y), max(test_Y)], ls = \"--\", c = \".3\")\n",
    "plt.xlabel('test Y')\n",
    "plt.ylabel('pred Y')\n",
    "plt.show()"
   ]
  }
 ],
 "metadata": {
  "kernelspec": {
   "display_name": "Python 3",
   "language": "python",
   "name": "python3"
  },
  "language_info": {
   "codemirror_mode": {
    "name": "ipython",
    "version": 3
   },
   "file_extension": ".py",
   "mimetype": "text/x-python",
   "name": "python",
   "nbconvert_exporter": "python",
   "pygments_lexer": "ipython3",
   "version": "3.7.9"
  }
 },
 "nbformat": 4,
 "nbformat_minor": 4
}
