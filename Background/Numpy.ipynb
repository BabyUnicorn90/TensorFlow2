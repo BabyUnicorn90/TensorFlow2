{
 "cells": [
  {
   "cell_type": "markdown",
   "metadata": {},
   "source": [
    "# **Numpy**\n",
    "\n",
    "- Numerical Python\n",
    "\n",
    "- C언어로 구현된 파이썬 라이브러리. for 고성능 수치계산 -벡터, 행렬연산.\n",
    "\n",
    "- Pandas, matplotlib의 기반으로 사용. \n",
    "\n",
    "- 기본 데이터관리 단위: array <--_\"행렬\"_"
   ]
  },
  {
   "cell_type": "code",
   "execution_count": 1,
   "metadata": {},
   "outputs": [],
   "source": [
    "# numpy import하기\n",
    "import numpy as np"
   ]
  },
  {
   "cell_type": "markdown",
   "metadata": {},
   "source": [
    "## **Array정의 및 사용하기**"
   ]
  },
  {
   "cell_type": "code",
   "execution_count": 2,
   "metadata": {},
   "outputs": [
    {
     "name": "stdout",
     "output_type": "stream",
     "text": [
      "[1, 2, 3, 4, 5] <class 'list'>\n"
     ]
    }
   ],
   "source": [
    "data1 = [1, 2, 3, 4, 5]\n",
    "print(data1, type(data1))"
   ]
  },
  {
   "cell_type": "code",
   "execution_count": 3,
   "metadata": {},
   "outputs": [
    {
     "name": "stdout",
     "output_type": "stream",
     "text": [
      "[1, 2, 3, 3.5, 4] <class 'list'>\n"
     ]
    }
   ],
   "source": [
    "data2 = [1, 2, 3, 3.5, 4]\n",
    "print(data2, type(data2))"
   ]
  },
  {
   "cell_type": "code",
   "execution_count": 4,
   "metadata": {},
   "outputs": [
    {
     "name": "stdout",
     "output_type": "stream",
     "text": [
      "[1 2 3 4 5] <class 'numpy.ndarray'> (5,) int32\n",
      "[1 2 3 4 5] <class 'numpy.ndarray'> (5,) int32\n",
      "[1.  2.  3.  3.5 4. ] <class 'numpy.ndarray'> (5,) float64\n",
      "[[ 1  2  3]\n",
      " [ 4  5  6]\n",
      " [ 7  8  9]\n",
      " [10 11 12]] <class 'numpy.ndarray'> (4, 3) int32\n"
     ]
    },
    {
     "data": {
      "text/plain": [
       "'\\n# array의 크기 확인하기: .shape\\n    - 몇 차원인지, 몇 개의 데이터가 있는지 확인\\n    - arr1 출력값: (5,)  --> 1차원, 데이터 5개\\n    - arr4 출력값: (4, 3)  --> 2차원, 데이터 4*3개\\n\\n# array의 자료형 확인하기: .dtype\\n\\n# vs 파이썬-list\\n    - 파이썬 list: ,로 구분; 다양한 자료형; 수학적 계산x\\n    - 넘파이 array: ,로 구분x; 동일한 자료형으로 변환; 수학적 계산o\\n'"
      ]
     },
     "execution_count": 4,
     "metadata": {},
     "output_type": "execute_result"
    }
   ],
   "source": [
    "# <numpy를 이용하여 array 정의하기: np.array()>\n",
    "\n",
    "# 1. 파이썬-이미 정의된 list 이용하기 \n",
    "arr1 = np.array(data1)\n",
    "print(arr1, type(arr1), arr1.shape, arr1.dtype)\n",
    "\n",
    "# 2. 직접 list 넣어주기\n",
    "arr2 = np.array([1, 2, 3, 4, 5])\n",
    "print(arr2, type(arr2), arr2.shape, arr2.dtype)\n",
    "\n",
    "#\n",
    "arr3 = np.array(data2)\n",
    "print(arr3, type(arr3), arr3.shape, arr3.dtype)\n",
    "\n",
    "#\n",
    "arr4 = np.array([[1, 2, 3], [4, 5, 6], [7, 8, 9], [10, 11, 12]])\n",
    "print(arr4, type(arr4), arr4.shape, arr4.dtype)\n",
    "\n",
    "'''\n",
    "# array의 크기 확인하기: .shape\n",
    "    - 몇 차원인지, 몇 개의 데이터가 있는지 확인\n",
    "    - arr1 출력값: (5,)  --> 1차원, 데이터 5개\n",
    "    - arr4 출력값: (4, 3)  --> 2차원, 데이터 4*3개\n",
    "\n",
    "# array의 자료형 확인하기: .dtype\n",
    "\n",
    "# vs 파이썬-list\n",
    "    - 파이썬 list: ,로 구분; 다양한 자료형; 수학적 계산x\n",
    "    - 넘파이 array: ,로 구분x; 동일한 자료형으로 변환; 수학적 계산o\n",
    "'''"
   ]
  },
  {
   "cell_type": "code",
   "execution_count": 5,
   "metadata": {},
   "outputs": [
    {
     "name": "stdout",
     "output_type": "stream",
     "text": [
      "[0. 0. 0. 0. 0. 0. 0. 0. 0. 0.]\n",
      "[[0. 0. 0. 0. 0.]\n",
      " [0. 0. 0. 0. 0.]\n",
      " [0. 0. 0. 0. 0.]]\n",
      "[1. 1. 1.]\n",
      "[[1. 1. 1. 1. 1. 1. 1. 1. 1. 1.]\n",
      " [1. 1. 1. 1. 1. 1. 1. 1. 1. 1.]]\n",
      "[0 1 2 3 4 5 6 7 8 9]\n",
      "[3 4]\n"
     ]
    }
   ],
   "source": [
    "# <numpy를 이용하여 array 정의하기_자동채움>\n",
    "\n",
    "# 1. np.zeros()\n",
    "print(np.zeros(10))\n",
    "print(np.zeros((3, 5)))\n",
    "\n",
    "# 2. np.ones()\n",
    "print(np.ones(3))\n",
    "print(np.ones((2, 10)))\n",
    "\n",
    "# 3. np.arange(): 인자로 받는 값 범위의 \"1씩\" 증가하는 \"1차원\" array\n",
    "print(np.arange(10))  #인자 1개: 0 ~ 입력한인자값\n",
    "print(np.arange(3, 5)) #인자 2개: [첫번째 인자값 ~ 두번째 인자값)\n",
    "# cf. 포함: [], 미포함: ()"
   ]
  },
  {
   "cell_type": "markdown",
   "metadata": {},
   "source": [
    "## **Array 연산**\n",
    "\n",
    "- 크기가 동일한 array끼리, 같은 위치에 있는 요소들 끼리 연산"
   ]
  },
  {
   "cell_type": "code",
   "execution_count": 6,
   "metadata": {},
   "outputs": [
    {
     "name": "stdout",
     "output_type": "stream",
     "text": [
      "(2, 3)\n",
      "(2, 3)\n",
      "(3,)\n"
     ]
    }
   ],
   "source": [
    "arr1 = np.array([[1, 2, 3], [4, 5, 6]])\n",
    "print(arr1.shape)\n",
    "\n",
    "arr2 = np.array([[10, 11, 12], [13, 14, 15]])\n",
    "print(arr2.shape)\n",
    "\n",
    "arr3 = np.array([10, 11, 12])\n",
    "print(arr3.shape)"
   ]
  },
  {
   "cell_type": "code",
   "execution_count": 7,
   "metadata": {},
   "outputs": [
    {
     "name": "stdout",
     "output_type": "stream",
     "text": [
      "[[11 13 15]\n",
      " [17 19 21]]\n",
      "[[-9 -9 -9]\n",
      " [-9 -9 -9]]\n",
      "[[10 22 36]\n",
      " [52 70 90]]\n",
      "[[0.1        0.18181818 0.25      ]\n",
      " [0.30769231 0.35714286 0.4       ]]\n"
     ]
    }
   ],
   "source": [
    "# array 사칙연산\n",
    "print(arr1 + arr2)\n",
    "print(arr1 - arr2)\n",
    "print(arr1 * arr2)   #행렬의 곱셈이 아니다!! \n",
    "print(arr1 / arr2)   #행렬의 나눗셈(?!)이 아니다!!"
   ]
  },
  {
   "cell_type": "code",
   "execution_count": 8,
   "metadata": {},
   "outputs": [
    {
     "name": "stdout",
     "output_type": "stream",
     "text": [
      "[[11 13 15]\n",
      " [14 16 18]]\n",
      "[[-9 -9 -9]\n",
      " [-6 -6 -6]]\n",
      "[[10 22 36]\n",
      " [40 55 72]]\n",
      "[[0.1        0.18181818 0.25      ]\n",
      " [0.4        0.45454545 0.5       ]]\n",
      "[[10 20 30]\n",
      " [40 50 60]]\n",
      "[[ 1  4  9]\n",
      " [16 25 36]]\n"
     ]
    }
   ],
   "source": [
    "# array의 broadcast:\n",
    "# 서로 크기가 다른 array끼리 연산이 가능하도록\n",
    "print(arr1 + arr3)\n",
    "print(arr1 - arr3)\n",
    "print(arr1 * arr3)\n",
    "print(arr1 / arr3)\n",
    "# --> arr3이 [[10, 11, 12], [10, 11, 12]]로 확장되어 계산됨.\n",
    "\n",
    "print(arr1 * 10) #모든 요소 곱하기10\n",
    "print(arr1 ** 2) #모든 요소 제곱\n",
    "# array와 스칼라의 연산도 가능! "
   ]
  },
  {
   "cell_type": "markdown",
   "metadata": {},
   "source": [
    "## **array 인덱싱**\n",
    "\n",
    "- 기본적으로 파이썬 인덱싱과 동일, but...\n",
    "\n",
    "    - 파이썬 인덱싱: 1번부터 시작\n",
    "\n",
    "    - 넘파이 인덱싱: 0번부터 시작"
   ]
  },
  {
   "cell_type": "code",
   "execution_count": 9,
   "metadata": {},
   "outputs": [
    {
     "name": "stdout",
     "output_type": "stream",
     "text": [
      "arr1: [0 1 2 3 4 5 6 7 8 9]\n",
      "1번째 요소: 0\n",
      "3번째부터 8번째 요소: [2 3 4 5 6 7]\n",
      "처음부터 끝까지: [0 1 2 3 4 5 6 7 8 9]\n"
     ]
    }
   ],
   "source": [
    "arr1 = np.arange(10)\n",
    "print('arr1:', arr1)\n",
    "print('1번째 요소:', arr1[0])\n",
    "print('3번째부터 8번째 요소:', arr1[2:8])\n",
    "print('처음부터 끝까지:', arr1[:])"
   ]
  },
  {
   "cell_type": "code",
   "execution_count": 10,
   "metadata": {},
   "outputs": [
    {
     "name": "stdout",
     "output_type": "stream",
     "text": [
      "arr2: \n",
      " [[ 1  2  3  4]\n",
      " [ 5  6  7  8]\n",
      " [ 9 10 11 12]]\n",
      "1행 1열: 1\n",
      "2행 모든요소: [5 6 7 8]\n",
      "모든 행의 마지막요소: [ 4  8 12]\n"
     ]
    }
   ],
   "source": [
    "arr2 = np.array([[1,2,3,4],\n",
    "                 [5,6,7,8],\n",
    "                 [9,10,11,12]])\n",
    "print('arr2: \\n', arr2)\n",
    "print('1행 1열:', arr2[0, 0])\n",
    "print('2행 모든요소:', arr2[1, :])\n",
    "print('모든 행의 마지막요소:', arr2[:, -1])\n",
    "#2차원 array 인덱싱은 2개의 인자를 입력해야 한다."
   ]
  },
  {
   "cell_type": "markdown",
   "metadata": {},
   "source": [
    "## **array boolean 인덱싱: 마스크**\n",
    "\n",
    "- boolean 인덱싱을 통해 만들어낸 array를 통해 원하는 행/열의 값만 뽑을 수 있음. "
   ]
  },
  {
   "cell_type": "code",
   "execution_count": 13,
   "metadata": {},
   "outputs": [
    {
     "name": "stdout",
     "output_type": "stream",
     "text": [
      "['Beomwoo' 'Beomwoo' 'Kim' 'Joan' 'Lee' 'Beomwoo' 'Park' 'Beomwoo'] (8,)\n"
     ]
    }
   ],
   "source": [
    "names = np.array(['Beomwoo','Beomwoo','Kim','Joan','Lee','Beomwoo','Park','Beomwoo'])\n",
    "\n",
    "print(names, names.shape)"
   ]
  },
  {
   "cell_type": "code",
   "execution_count": 14,
   "metadata": {},
   "outputs": [
    {
     "name": "stdout",
     "output_type": "stream",
     "text": [
      "[[ 0.716016   -1.77656045 -1.34676112  0.41219787]\n",
      " [-2.42387506 -0.6168421  -0.30354384 -1.35605339]\n",
      " [-0.82388605 -1.27984757 -0.81584038 -1.03308186]\n",
      " [ 0.2323918  -0.29322735 -0.11424547  1.22619932]\n",
      " [-0.7336004   1.09701669  0.27110903 -0.14858687]\n",
      " [ 0.42429688 -0.54423539  1.15786888 -0.18394499]\n",
      " [-0.75678703  1.54862962  0.39544688 -0.10361984]\n",
      " [ 1.30989751  1.62320671 -1.05735265  0.2335105 ]] (8, 4)\n"
     ]
    }
   ],
   "source": [
    "data = np.random.randn(8, 4)\n",
    "print(data, data.shape)\n",
    "# randaom.randn( (배열크기) ):\n",
    "# 기대값 0, 표준편차 1인 가우시안 정규분포를 따르는 난수 발생\n",
    "# random.rand( (배열크기) ):\n",
    "# 0~1의 난수 발생"
   ]
  },
  {
   "cell_type": "code",
   "execution_count": 36,
   "metadata": {},
   "outputs": [
    {
     "name": "stdout",
     "output_type": "stream",
     "text": [
      "[ True  True False False False  True False  True] <class 'numpy.ndarray'>\n",
      "Beomwoo만 나와! \n",
      " [[ 0.716016   -1.77656045 -1.34676112  0.41219787]\n",
      " [-2.42387506 -0.6168421   0.          0.        ]\n",
      " [ 0.42429688 -0.54423539  1.15786888 -0.18394499]\n",
      " [ 1.30989751  1.62320671 -1.05735265  0.2335105 ]]\n",
      "Kim만 나와! \n",
      " [[-0.82388605 -1.27984757  0.          0.        ]]\n",
      "Kim 또는 Park 나와! \n",
      " [[-0.82388605 -1.27984757  0.          0.        ]\n",
      " [-0.75678703  1.54862962  0.          0.        ]]\n",
      "[False  True  True False  True False  True False]\n",
      "0번째 열이 0보다 작은 요소가진 행 나와! \n",
      " [[-2.42387506 -0.6168421   0.          0.        ]\n",
      " [-0.82388605 -1.27984757  0.          0.        ]\n",
      " [-0.7336004   1.09701669  0.          0.        ]\n",
      " [-0.75678703  1.54862962  0.          0.        ]]\n",
      "[[ 0.716016   -1.77656045 -1.34676112  0.41219787]\n",
      " [-2.42387506 -0.6168421   0.          0.        ]\n",
      " [-0.82388605 -1.27984757  0.          0.        ]\n",
      " [ 0.2323918  -0.29322735 -0.11424547  1.22619932]\n",
      " [-0.7336004   1.09701669  0.          0.        ]\n",
      " [ 0.42429688 -0.54423539  1.15786888 -0.18394499]\n",
      " [-0.75678703  1.54862962  0.          0.        ]\n",
      " [ 1.30989751  1.62320671 -1.05735265  0.2335105 ]]\n"
     ]
    }
   ],
   "source": [
    "# names의 각 요소를 data의 각 행과 연결시키기  + Beomwoo인 행만 출력하기\n",
    "\n",
    "# 1. Beomwoo와 연결된 data의 행 출력하기\n",
    "# 1-1. names의 요소가 Beomwoo인 항목에 대한 mask 만들기\n",
    "names_Beomwoo_mask = (names == 'Beomwoo')    # Boolean으로 반환\n",
    "print(names_Beomwoo_mask, type(names_Beomwoo_mask))\n",
    "# 1-2. names에서 Beomwoo는 0, 1, 5, 7번째 요소이므로 data의 0, 1, 5, 7번째 행 출력\n",
    "print('Beomwoo만 나와! \\n', data[names_Beomwoo_mask, :])\n",
    "\n",
    "# 2. Kim과 연결된 data의 행 출력하기\n",
    "print('Kim만 나와! \\n', data[names == 'Kim', :])\n",
    "\n",
    "# 3. Kim 또는 Park과 연결된 data의 행 출력하기\n",
    "print('Kim 또는 Park 나와! \\n', data[(names == 'Kim')|(names =='Park'), :])\n",
    "\n",
    "# 4. data에서 0번째 열의 값이 0보다 작은 행 출력하기\n",
    "# 4-1. data에서 마스크 만들기: 0번째 열이 0보다 작은 요소\n",
    "data_mask = data[:, 0] < 0\n",
    "print(data_mask)\n",
    "# 4-2. 4-1을 이용, 0번째 열이 0보다 작은 요소를 가진 행 출력하기\n",
    "print('0번째 열이 0보다 작은 요소가진 행 나와! \\n', data[data_mask, :])\n",
    "\n",
    "# 5. 0번쨰 열이 0보다 작은 행의 2, 3번째 열에 0 대입하기  <-숫자만 가능\n",
    "data[data_mask, 2:4] = 0\n",
    "print(data)"
   ]
  },
  {
   "cell_type": "markdown",
   "metadata": {},
   "source": [
    "## **numpy 함수**"
   ]
  },
  {
   "cell_type": "markdown",
   "metadata": {},
   "source": [
    "### 하나의 array에 적용되는 함수 "
   ]
  },
  {
   "cell_type": "code",
   "execution_count": 48,
   "metadata": {},
   "outputs": [
    {
     "name": "stdout",
     "output_type": "stream",
     "text": [
      "[[-1.79075136 -0.46520049  0.87762788]\n",
      " [-0.57066014 -0.52376386  0.0169349 ]\n",
      " [-1.28255016  0.17114753 -0.46588041]\n",
      " [ 0.68752552  1.95107129  0.50713629]\n",
      " [-0.48119036 -0.05047432  0.90461526]]\n"
     ]
    },
    {
     "data": {
      "text/plain": [
       "array([[-0.21818574,  0.89373165,  0.63897764],\n",
       "       [ 0.84154456,  0.86594285,  0.99985661],\n",
       "       [ 0.28427119,  0.98538998,  0.89342643],\n",
       "       [ 0.77281875, -0.37117581,  0.87413893],\n",
       "       [ 0.88644461,  0.99872644,  0.61798811]])"
      ]
     },
     "execution_count": 48,
     "metadata": {},
     "output_type": "execute_result"
    }
   ],
   "source": [
    "arr1 = np.random.randn(5, 3)\n",
    "print(arr1)\n",
    "\n",
    "# 1. np.abs( (배열이름) ): 각 성분의 절댓값 계산\n",
    "np.abs(arr1)\n",
    "\n",
    "# 2. np.sqrt( (배열이름) ): 각 성분의 제곱근 계산\n",
    "# np.sqrt(arr1)\n",
    "\n",
    "# 3. np.square( (배열이름) ): 각 성분의 제곱 계산\n",
    "np.square(arr1)\n",
    "\n",
    "# 4. np.exp( (배열이름) ): 각 성분을 무리수 e의 지수로 삼은 값 계산\n",
    "np.exp(arr1)\n",
    "\n",
    "# 5. np.sign( (배열이름) ): 각 성분의 부호 계산하기 (+ 1, - -1, 0 0)\n",
    "np.sign(arr1)\n",
    "\n",
    "# 6. np.ceil( (배열이름) ): 각 성분의 소수 첫번째 자리에서 올림하기\n",
    "np.ceil(arr1)\n",
    "\n",
    "# 7. np.floor( (배열이름) ): 각 성분의 소수 첫번째 자리에서 내림하기\n",
    "np.floor(arr1)\n",
    "\n",
    "# 8.np.isnan( (배열이름) ): 각 성분이 NaN값-True\n",
    "np.isnan(arr1)\n",
    "\n",
    "# 9.np.isinf( (배열이름) ): 각 성본이 무한대-True\n",
    "np.isinf(arr1)\n",
    "\n",
    "# 10. np.cos( (배열이름)), np.tanh( (배열이름) )\n",
    "np.cos(arr1)"
   ]
  },
  {
   "cell_type": "markdown",
   "metadata": {},
   "source": [
    "### 두 개의 array에 적용되는 함수"
   ]
  },
  {
   "cell_type": "code",
   "execution_count": 49,
   "metadata": {},
   "outputs": [
    {
     "data": {
      "text/plain": [
       "array([[-1.79075136, -0.46520049,  0.87762788],\n",
       "       [-0.57066014, -0.52376386,  0.0169349 ],\n",
       "       [-1.28255016,  0.17114753, -0.46588041],\n",
       "       [ 0.68752552,  1.95107129,  0.50713629],\n",
       "       [-0.48119036, -0.05047432,  0.90461526]])"
      ]
     },
     "execution_count": 49,
     "metadata": {},
     "output_type": "execute_result"
    }
   ],
   "source": [
    "arr1"
   ]
  },
  {
   "cell_type": "code",
   "execution_count": 52,
   "metadata": {},
   "outputs": [
    {
     "data": {
      "text/plain": [
       "array([[ 0.54435099, -0.79882303,  0.15861552],\n",
       "       [-0.19171521, -0.83704338,  1.38057224],\n",
       "       [ 0.47712792, -0.82001347, -0.5476593 ],\n",
       "       [-0.93208245, -1.01916985,  1.39167337],\n",
       "       [-0.48860485,  1.33751106, -1.36131772]])"
      ]
     },
     "execution_count": 52,
     "metadata": {},
     "output_type": "execute_result"
    }
   ],
   "source": [
    "arr2 = np.random.randn(5, 3)\n",
    "arr2"
   ]
  },
  {
   "cell_type": "code",
   "execution_count": 55,
   "metadata": {},
   "outputs": [
    {
     "name": "stdout",
     "output_type": "stream",
     "text": [
      "[[-1.24640037 -1.26402352  1.03624339]\n",
      " [-0.76237535 -1.36080725  1.39750713]\n",
      " [-0.80542224 -0.64886593 -1.0135397 ]\n",
      " [-0.24455694  0.93190145  1.89880966]\n",
      " [-0.96979521  1.28703674 -0.45670246]]\n",
      "[[-2.33510235  0.33362255  0.71901236]\n",
      " [-0.37894492  0.31327952 -1.36363734]\n",
      " [-1.75967808  0.991161    0.08177889]\n",
      " [ 1.61960797  2.97024114 -0.88453708]\n",
      " [ 0.00741448 -1.38798538  2.26593297]]\n",
      "[[-0.97479727  0.37161286  0.1392054 ]\n",
      " [ 0.10940423  0.43841308  0.02337985]\n",
      " [-0.61194049 -0.14034328  0.25514374]\n",
      " [-0.64083047 -1.98847303  0.70576807]\n",
      " [ 0.23511194 -0.06750997 -1.23146878]]\n",
      "[[-3.28969985  0.58235738  5.53305181]\n",
      " [ 2.97660328  0.62573084  0.01226658]\n",
      " [-2.68806355 -0.20871307  0.85067561]\n",
      " [-0.73762307 -1.91437305  0.36440755]\n",
      " [ 0.98482519 -0.0377375  -0.66451442]]\n",
      "[[-1.79075136 -0.79882303  0.15861552]\n",
      " [-0.57066014 -0.83704338  0.0169349 ]\n",
      " [-1.28255016 -0.82001347 -0.5476593 ]\n",
      " [-0.93208245 -1.01916985  0.50713629]\n",
      " [-0.48860485 -0.05047432 -1.36131772]]\n",
      "[[ 0.54435099 -0.46520049  0.87762788]\n",
      " [-0.19171521 -0.52376386  1.38057224]\n",
      " [ 0.47712792  0.17114753 -0.46588041]\n",
      " [ 0.68752552  1.95107129  1.39167337]\n",
      " [-0.48119036  1.33751106  0.90461526]]\n"
     ]
    }
   ],
   "source": [
    "# 동일한 위치의 요소끼리 사칙연산하기\n",
    "print(np.add(arr1, arr2))\n",
    "print(np.subtract(arr1, arr2))\n",
    "print(np.multiply(arr1, arr2))\n",
    "print(np.divide(arr1, arr2))\n",
    "\n",
    "# 동일한 위치의 요소끼리 비교하여 최댓값/최솟값 계산하기\n",
    "print(np.minimum(arr1, arr2))\n",
    "print(np.maximum(arr1, arr2))"
   ]
  },
  {
   "cell_type": "markdown",
   "metadata": {},
   "source": [
    "### 통계함수\n",
    "\n",
    "- axis 인자에 대한 값을 지정하여 열 또는 행의 합, 평균 등 계산"
   ]
  },
  {
   "cell_type": "code",
   "execution_count": 56,
   "metadata": {},
   "outputs": [
    {
     "data": {
      "text/plain": [
       "array([[-1.79075136, -0.46520049,  0.87762788],\n",
       "       [-0.57066014, -0.52376386,  0.0169349 ],\n",
       "       [-1.28255016,  0.17114753, -0.46588041],\n",
       "       [ 0.68752552,  1.95107129,  0.50713629],\n",
       "       [-0.48119036, -0.05047432,  0.90461526]])"
      ]
     },
     "execution_count": 56,
     "metadata": {},
     "output_type": "execute_result"
    }
   ],
   "source": [
    "arr1"
   ]
  },
  {
   "cell_type": "code",
   "execution_count": 62,
   "metadata": {},
   "outputs": [
    {
     "name": "stdout",
     "output_type": "stream",
     "text": [
      "-0.5144124359168267\n",
      "[-1.37832397 -1.0774891  -1.57728303  3.1457331   0.37295057]\n",
      "[-3.4376265   1.08278015  1.84043391]\n"
     ]
    }
   ],
   "source": [
    "# 전체 성분의 합 계산하기\n",
    "print(np.sum(arr1))\n",
    "\n",
    "# 행 간의 합 계산하기\n",
    "print(np.sum(arr1, axis = 1))\n",
    "\n",
    "# 열 간의 합 계산하기\n",
    "print(np.sum(arr1, axis = 0))"
   ]
  },
  {
   "cell_type": "code",
   "execution_count": 63,
   "metadata": {},
   "outputs": [
    {
     "name": "stdout",
     "output_type": "stream",
     "text": [
      "-0.03429416239445512\n",
      "[-0.45944132 -0.35916303 -0.52576101  1.0485777   0.12431686]\n",
      "[-0.6875253   0.21655603  0.36808678]\n"
     ]
    }
   ],
   "source": [
    "# 전체 성분의 평균 계산하기\n",
    "print(np.mean(arr1))\n",
    "\n",
    "# 행 간의 평균 계산하기\n",
    "print(np.mean(arr1, axis = 1))\n",
    "\n",
    "# 열 간의 평균 계산하기\n",
    "print(np.mean(arr1, axis = 0))"
   ]
  },
  {
   "cell_type": "code",
   "execution_count": 70,
   "metadata": {},
   "outputs": [
    {
     "name": "stdout",
     "output_type": "stream",
     "text": [
      "표준편차 std: 0.9039287918832923\n",
      "분산 var: 0.8170872607955885\n",
      "최솟값 min: -1.7907513622840237\n",
      "행의 최솟값: [-1.79075136 -0.52376386 -0.46588041]\n",
      "최댓값 max: 1.9510712925047942\n",
      "열의 최댓값: [0.87762788 0.0169349  0.17114753 1.95107129 0.90461526]\n",
      "최댓값의 인덱스 반환 argmax: 10\n",
      "맨 처음 성분부터 각 성분까지의 누적합 cumsum: \n",
      " [-1.79075136 -2.25595185 -1.37832397 -1.94898411 -2.47274797 -2.45581308\n",
      " -3.73836323 -3.5672157  -4.03309611 -3.34557059 -1.3944993  -0.88736301\n",
      " -1.36855337 -1.41902769 -0.51441244]\n",
      "맨 처음 성분부터 각 성분까지의 누적곱 cumprod: \n",
      " [-1.79075136e+00  8.33058405e-01  7.31115279e-01 -4.17218345e-01\n",
      "  2.18523892e-01  3.70067935e-03 -4.74630689e-03 -8.12318709e-04\n",
      "  3.78443369e-04  2.60189473e-04  5.07648211e-04  2.57446831e-04\n",
      " -1.23880933e-04  6.25280628e-06  5.65638396e-06]\n"
     ]
    }
   ],
   "source": [
    "# 전체 성분의 표준편차, 분산, 최솟값, 최댓값 계산하기\n",
    "print('표준편차 std:', np.std(arr1))\n",
    "print('분산 var:', np.var(arr1))\n",
    "print('최솟값 min:', np.min(arr1))\n",
    "print('열의 최솟값:', np.min(arr1, axis = 0))\n",
    "print('최댓값 max:', np.max(arr1))\n",
    "print('행의 최댓값:', np.max(arr1, axis = 1))\n",
    "print('최댓값의 인덱스 반환 argmax:', np.argmax(arr1))\n",
    "\n",
    "print('맨 처음 성분부터 각 성분까지의 누적합 cumsum: \\n', np.cumsum(arr1))\n",
    "print('맨 처음 성분부터 각 성분까지의 누적곱 cumprod: \\n', np.cumprod(arr1))"
   ]
  },
  {
   "cell_type": "markdown",
   "metadata": {},
   "source": [
    "### 기타함수"
   ]
  },
  {
   "cell_type": "code",
   "execution_count": 71,
   "metadata": {},
   "outputs": [
    {
     "data": {
      "text/plain": [
       "array([[-1.79075136, -0.46520049,  0.87762788],\n",
       "       [-0.57066014, -0.52376386,  0.0169349 ],\n",
       "       [-1.28255016,  0.17114753, -0.46588041],\n",
       "       [ 0.68752552,  1.95107129,  0.50713629],\n",
       "       [-0.48119036, -0.05047432,  0.90461526]])"
      ]
     },
     "execution_count": 71,
     "metadata": {},
     "output_type": "execute_result"
    }
   ],
   "source": [
    "arr1"
   ]
  },
  {
   "cell_type": "code",
   "execution_count": 76,
   "metadata": {},
   "outputs": [
    {
     "name": "stdout",
     "output_type": "stream",
     "text": [
      "오름차순 정렬 sort: \n",
      " [[-1.79075136 -0.46520049  0.87762788]\n",
      " [-0.57066014 -0.52376386  0.0169349 ]\n",
      " [-1.28255016 -0.46588041  0.17114753]\n",
      " [ 0.50713629  0.68752552  1.95107129]\n",
      " [-0.48119036 -0.05047432  0.90461526]]\n",
      "내림차순 정렬: \n",
      " [[-0.48119036 -0.05047432  0.90461526]\n",
      " [ 0.50713629  0.68752552  1.95107129]\n",
      " [-1.28255016 -0.46588041  0.17114753]\n",
      " [-0.57066014 -0.52376386  0.0169349 ]\n",
      " [-1.79075136 -0.46520049  0.87762788]]\n",
      "[[-1.79075136 -0.52376386 -0.46588041]\n",
      " [-1.28255016 -0.46520049  0.0169349 ]\n",
      " [-0.57066014 -0.05047432  0.50713629]\n",
      " [-0.48119036  0.17114753  0.87762788]\n",
      " [ 0.68752552  1.95107129  0.90461526]]\n",
      "[[-1.79075136 -0.46520049  0.87762788]\n",
      " [-0.57066014 -0.52376386  0.0169349 ]\n",
      " [-1.28255016 -0.46588041  0.17114753]\n",
      " [ 0.50713629  0.68752552  1.95107129]\n",
      " [-0.48119036 -0.05047432  0.90461526]]\n",
      "[-1.79075136 -1.28255016 -0.57066014 -0.52376386 -0.48119036 -0.46588041\n",
      " -0.46520049 -0.05047432  0.0169349   0.17114753  0.50713629  0.68752552\n",
      "  0.87762788  0.90461526  1.95107129]\n"
     ]
    }
   ],
   "source": [
    "print('오름차순 정렬 sort: \\n', np.sort(arr1))     #default axis: -1\n",
    "print('내림차순 정렬: \\n', np.sort(arr1)[::-1])\n",
    "#sort( (배열이름) )[ [from] : (to) : step ]\n",
    "print(np.sort(arr1, axis = 0))\n",
    "print(np.sort(arr1, axis = 1))  \n",
    "#2차배열이기 떄문에 axis가 1일 때 default때와 동일한 결과를 얻는다. \n",
    "print(np.sort(arr1, axis = None))  "
   ]
  }
 ],
 "metadata": {
  "kernelspec": {
   "display_name": "Python 3",
   "language": "python",
   "name": "python3"
  },
  "language_info": {
   "codemirror_mode": {
    "name": "ipython",
    "version": 3
   },
   "file_extension": ".py",
   "mimetype": "text/x-python",
   "name": "python",
   "nbconvert_exporter": "python",
   "pygments_lexer": "ipython3",
   "version": "3.7.9"
  }
 },
 "nbformat": 4,
 "nbformat_minor": 4
}
